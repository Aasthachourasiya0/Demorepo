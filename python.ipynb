{
 "cells": [
  {
   "cell_type": "code",
   "execution_count": 12,
   "metadata": {},
   "outputs": [],
   "source": [
    "abc = open(\"C:\\\\Users\\\\HP\\\\OneDrive\\\\Desktop\\\\py program\\\\newfolder\",\"w\")\n",
    "abc.write(\"Hello\")\n",
    "abc.close()"
   ]
  },
  {
   "cell_type": "code",
   "execution_count": 13,
   "metadata": {},
   "outputs": [],
   "source": [
    "file = open(\"C:\\\\Users\\\\HP\\\\OneDrive\\\\Desktop\\\\py program\\\\newfolder\",\"w\")\n",
    "file.write(\"Fun in sun: Exploring and Learning. Sparkling Minds, endless possibilities...Enriching Summer Adventures for Children...\")\n",
    "file.close()"
   ]
  },
  {
   "cell_type": "code",
   "execution_count": 25,
   "metadata": {},
   "outputs": [],
   "source": [
    "file = open(\"C:\\\\Users\\\\HP\\\\OneDrive\\\\Desktop\\\\py program\\\\newfolder\",\"a\")\n",
    "file.writelines(\"Fun in sun: Exploring and Learning. Sparkling Minds, endless possibilities...Enriching Summer Adventures for Children...\")\n",
    "file.close()"
   ]
  },
  {
   "cell_type": "code",
   "execution_count": 17,
   "metadata": {},
   "outputs": [],
   "source": [
    "file = open(\"C:\\\\Users\\\\HP\\\\OneDrive\\\\Desktop\\\\py program\\\\newfolder\",\"r\") \n",
    "file.readable()\n",
    "file.close()"
   ]
  },
  {
   "cell_type": "code",
   "execution_count": 20,
   "metadata": {},
   "outputs": [],
   "source": [
    "image = open(\"C:\\\\Users\\\\HP\\\\Downloads\\\\Snapinsta.jpg\",\"rb\")\n",
    "new_image = open(\"C:\\\\Users\\\\HP\\\\OneDrive\\\\Desktop\\\\py program\\\\Snapinsta.jpg\",\"wb\")\n",
    "data = image.readlines()\n",
    "new_image.writelines(data)\n",
    "\n",
    "image.close()\n",
    "new_image.close()\n"
   ]
  },
  {
   "cell_type": "code",
   "execution_count": 24,
   "metadata": {},
   "outputs": [],
   "source": [
    "try:\n",
    "    video = open(\"C:\\\\Users\\\\HP\\\\Downloads\\\\instagram_video.mp4\", \"rb\")\n",
    "    new_video = open(\"C:\\\\Users\\\\HP\\\\OneDrive\\\\Desktop\\\\py program\\\\instagram_video.mp4\", \"wb\")\n",
    "    data = video.readlines()\n",
    "    new_video.writelines(data)\n",
    "\n",
    "    video.close()\n",
    "    new_video.close()\n",
    "except FileExistsError:\n",
    "    print(\"file already exist\")\n",
    "except FileNotFoundError:\n",
    "    print(\"File not found\")\n"
   ]
  }
 ],
 "metadata": {
  "kernelspec": {
   "display_name": "Python 3",
   "language": "python",
   "name": "python3"
  },
  "language_info": {
   "codemirror_mode": {
    "name": "ipython",
    "version": 3
   },
   "file_extension": ".py",
   "mimetype": "text/x-python",
   "name": "python",
   "nbconvert_exporter": "python",
   "pygments_lexer": "ipython3",
   "version": "3.12.2"
  }
 },
 "nbformat": 4,
 "nbformat_minor": 2
}
