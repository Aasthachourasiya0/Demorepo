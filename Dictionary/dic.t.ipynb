{
 "cells": [
  {
   "cell_type": "code",
   "execution_count": 5,
   "metadata": {},
   "outputs": [
    {
     "name": "stdout",
     "output_type": "stream",
     "text": [
      "{'A': 90, 'B': 85, 'C': 95, 'D': 95, 'E': 50, 'F': 65}\n"
     ]
    }
   ],
   "source": [
    "# Given a dictionary of student names and grades, find the student with the highest grade.\n",
    "students = {\"A\": 90,\n",
    "            \"B\": 85,\n",
    "            \"C\": 95, \n",
    "            \"D\": 95, \n",
    "            \"E\":50, \n",
    "            \"F\":65}\n",
    "print(str(students))\n",
    "\n",
    "\n",
    "\n"
   ]
  },
  {
   "cell_type": "code",
   "execution_count": 1,
   "metadata": {},
   "outputs": [
    {
     "name": "stdout",
     "output_type": "stream",
     "text": [
      "Letter occurrences in the word:\n"
     ]
    }
   ],
   "source": [
    "# Count the occurrences of each letter in a given word using a dictionary.\n",
    "word = input(\"enter a word: \")\n",
    "my_dict = {}\n",
    "\n",
    "for letter in word:\n",
    "    if letter in my_dict:\n",
    "        my_dict[letter] += 1\n",
    "    else:\n",
    "        my_dict[letter] = 1\n",
    "\n",
    "print(\"Letter occurrences in the word:\")\n",
    "\n",
    "\n"
   ]
  },
  {
   "cell_type": "code",
   "execution_count": 9,
   "metadata": {},
   "outputs": [
    {
     "name": "stdout",
     "output_type": "stream",
     "text": [
      "{'Wt': 32, 'Ya': 2, 'a': 10, 'tS': 15, 'v': 9}\n"
     ]
    }
   ],
   "source": [
    "# Print all key-value pairs in a dictionary sorted by key.\n",
    "myDict = {'a': 10, 'v': 9,\n",
    "        'tS': 15, 'Ya': 2, 'Wt': 32}\n",
    "\n",
    "d = list(myDict.keys())\n",
    "d.sort()\n",
    "s = {i:myDict[i] for i in d}\n",
    "\n",
    "print(s)\n"
   ]
  },
  {
   "cell_type": "code",
   "execution_count": 3,
   "metadata": {},
   "outputs": [
    {
     "name": "stdout",
     "output_type": "stream",
     "text": [
      "{'a': 4, 'b': 5, 'c': 3}\n"
     ]
    }
   ],
   "source": [
    "# Update a specific value associated with a key in a dictionary.\n",
    "a = {\"a\":1, \n",
    "     \"b\":2,\n",
    "     \"c\":3}\n",
    "a.update({\"b\":5, \"a\":4})\n",
    "print(a)\n"
   ]
  },
  {
   "cell_type": "code",
   "execution_count": 5,
   "metadata": {},
   "outputs": [
    {
     "name": "stdout",
     "output_type": "stream",
     "text": [
      "{'a': 1, 'b': 2, 'd': 3, 'c': 4}\n"
     ]
    }
   ],
   "source": [
    "# Merge two dictionaries into one, with duplicate keys handled appropriately.\n",
    "dict1 = {'a': 1, 'b': 2}\n",
    "dict2 = {'d': 3, 'c': 4}\n",
    "\n",
    "dict = {**dict1,**dict2}\n",
    "print(dict)"
   ]
  },
  {
   "cell_type": "code",
   "execution_count": 6,
   "metadata": {},
   "outputs": [
    {
     "name": "stdout",
     "output_type": "stream",
     "text": [
      "Key exists in the dictionary.\n"
     ]
    }
   ],
   "source": [
    "# Check if a specific key exists in a dictionary.\n",
    "my_dist = {\"key\": 00, \"key2\":11, \"key4\":44,\"key5\":99}\n",
    "value = my_dist.get('key5')\n",
    "\n",
    "if value is not None:\n",
    "    print(\"Key exists in the dictionary.\")\n",
    "else:\n",
    "    print(\"Key does not exist in the dictionary.\")\n"
   ]
  },
  {
   "cell_type": "code",
   "execution_count": 18,
   "metadata": {},
   "outputs": [
    {
     "name": "stdout",
     "output_type": "stream",
     "text": [
      "{'b': 0, 'a': 11, 'c': 44}\n",
      "('d', 99)\n"
     ]
    }
   ],
   "source": [
    "# Delete a key-value pair from a dictionary based on the key.\n",
    "my_dist = {\"b\": 00, \"a\":11, \"c\":44,\"d\":99}\n",
    "value = my_dist.popitem()\n",
    "print(my_dist)\n",
    "print(value)"
   ]
  },
  {
   "cell_type": "code",
   "execution_count": 8,
   "metadata": {},
   "outputs": [
    {
     "name": "stdout",
     "output_type": "stream",
     "text": [
      "{'apple': 5, 'mango': 5, 'banana': 6, 'litchi': 6}\n"
     ]
    }
   ],
   "source": [
    "# Create a dictionary from a list of strings, where each string becomes a key and its length becomes the value.\n",
    "str = [\"apple\", \"mango\",\"banana\",\"litchi\"]\n",
    "length_dict = {}\n",
    "for word in str:\n",
    "    length_dict[word] = len(word)\n",
    "print(length_dict)"
   ]
  },
  {
   "cell_type": "code",
   "execution_count": 26,
   "metadata": {},
   "outputs": [
    {
     "name": "stdout",
     "output_type": "stream",
     "text": [
      "{'data': 0, 'data1': 11, 'data2': 44, 'data3': 99}\n",
      "154\n"
     ]
    }
   ],
   "source": [
    "# Find the sum of all values in a dictionary that have numeric values.\n",
    "d = {\"data\": 00, \"data1\":11, \"data2\":44,\"data3\":99}\n",
    "dist = sum(list(d.values()))\n",
    "print(d)\n",
    "print(dist)"
   ]
  },
  {
   "cell_type": "code",
   "execution_count": 7,
   "metadata": {},
   "outputs": [
    {
     "name": "stdout",
     "output_type": "stream",
     "text": [
      "original Dictionary: {'Name': 'Astha', 'City': 'Delhi', 'DOB': 230698, 'Number': 96954217542}\n",
      "reversed Dictionary {'Astha': 'Name', 'Delhi': 'City', 230698: 'DOB', 96954217542: 'Number'}\n"
     ]
    }
   ],
   "source": [
    "# Reverse a dictionary, swapping keys and values to create a new dictionary.\n",
    "my_dict = {\"Name\": \"Astha\", \"City\": \"Delhi\", \"DOB\": 230698, \"Number\": 96954217542 }\n",
    "new_dict = {}\n",
    "for key, value in my_dict.items():\n",
    "    new_dict[value] = key\n",
    "\n",
    "print(\"original Dictionary:\", my_dict)\n",
    "print(\"reversed Dictionary\", new_dict)\n",
    "\n"
   ]
  }
 ],
 "metadata": {
  "kernelspec": {
   "display_name": "Python 3",
   "language": "python",
   "name": "python3"
  },
  "language_info": {
   "codemirror_mode": {
    "name": "ipython",
    "version": 3
   },
   "file_extension": ".py",
   "mimetype": "text/x-python",
   "name": "python",
   "nbconvert_exporter": "python",
   "pygments_lexer": "ipython3",
   "version": "3.12.2"
  }
 },
 "nbformat": 4,
 "nbformat_minor": 2
}
