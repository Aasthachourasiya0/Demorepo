{
 "cells": [
  {
   "cell_type": "code",
   "execution_count": 3,
   "metadata": {},
   "outputs": [
    {
     "name": "stdout",
     "output_type": "stream",
     "text": [
      "GPA of Nihar: 3.8\n",
      "GPA of Neha: 3.9\n"
     ]
    }
   ],
   "source": [
    "class student:\n",
    "    def __init__(self , name , age , roll_number , major , gpa):\n",
    "        self.name = name\n",
    "        self.age = age\n",
    "        self.roll_number = roll_number\n",
    "        self.major = major\n",
    "        self.gpa = gpa\n",
    "\n",
    "    def printGPA(self):\n",
    "        print(f\"GPA of {self.name}: {self.gpa}\")\n",
    "\n",
    "class undergreduate(student):\n",
    "    def __init__(self, name, age, roll_number, major, gpa , year):\n",
    "        super().__init__(name, age, roll_number, major, gpa)\n",
    "        self.year = year\n",
    "\n",
    "\n",
    "class greduate(student):\n",
    "    def __init__(self, name, age, roll_number, major, gpa , thesis):\n",
    "        super().__init__(name, age, roll_number, major, gpa)\n",
    "        self.thesis = thesis\n",
    "\n",
    "class Test:\n",
    "    student1= undergreduate(\"Nihar\", 20, \"UG001\", \"Computer Science\", 3.8, 2)\n",
    "    student2 = greduate(\"Neha\", 25, \"GR001\", \"Economics\", 3.9, \"Social mobility\")\n",
    "    student1.printGPA()\n",
    "    student2.printGPA()"
   ]
  },
  {
   "cell_type": "code",
   "execution_count": 14,
   "metadata": {},
   "outputs": [
    {
     "name": "stdout",
     "output_type": "stream",
     "text": [
      "The price of this Coffee Table is 5200\n",
      "The price of this Rocking Chair is 500\n"
     ]
    }
   ],
   "source": [
    "class Furniture:\n",
    "    def __init__(self, type, material, color, dimensions,  price):\n",
    "        self.type = type\n",
    "        self.material = material\n",
    "        self.color = color\n",
    "        self.dimensions = dimensions\n",
    "        self.price = price\n",
    "\n",
    "    def printPrice(self):\n",
    "        print(f\"The price of this {self.type} is {self.price}\")\n",
    "\n",
    "class Table(Furniture):\n",
    "    def __init__(self, type, material, color, dimensions, price, legs):\n",
    "        super().__init__(type, material, color, dimensions, price)\n",
    "        self.legs = legs\n",
    "\n",
    "\n",
    "class Chair(Furniture):\n",
    "    def __init__(self, type, material, color, dimensions, price, hight):\n",
    "        super().__init__(type, material, color, dimensions, price)\n",
    "        self.hight = hight\n",
    "\n",
    "class Test:\n",
    "    T = Table(\"Coffee Table\", \"Wood\", \"Brown\", \"3x3 feet\", 5200 , 2)\n",
    "    C = Chair(\"Rocking Chair\", \"Metal\", \"Black\", \"2x2 feet\", 500, \"3 feet\")\n",
    "    T.printPrice()\n",
    "    C.printPrice()\n",
    "\n"
   ]
  },
  {
   "cell_type": "code",
   "execution_count": 16,
   "metadata": {},
   "outputs": [
    {
     "name": "stdout",
     "output_type": "stream",
     "text": [
      "Population of Tiger: 5000\n",
      "Population of Eagle: 1000\n"
     ]
    }
   ],
   "source": [
    "class Animal:\n",
    "    def __init__(self, Species, Age, Diet, Habitat, Population):\n",
    "        self.Species = Species\n",
    "        self.Age = Age\n",
    "        self.Diet = Diet\n",
    "        self.Habitat = Habitat\n",
    "        self.Population = Population\n",
    "\n",
    "    def printPopulation(self):\n",
    "        print(f\"Population of {self.Species}: {self.Population}\")\n",
    "\n",
    "class Mammal(Animal):\n",
    "    def __init__(self, Species, Age, Diet, Habitat, Population, Fur):\n",
    "        super().__init__(Species, Age, Diet, Habitat, Population)\n",
    "        self.Fur = Fur\n",
    "\n",
    "class Bird(Animal):\n",
    "    def __init__(self, Species, Age, Diet, Habitat, Population, Feather):\n",
    "        super().__init__(Species, Age, Diet, Habitat, Population)\n",
    "        self.Feather = Feather\n",
    "\n",
    "class Test:\n",
    "    M1 = Mammal(\"Tiger\", 5, \"Carnivore\", \"Jungle\", 5000, \"Striped\")\n",
    "    B1 = Bird(\"Eagle\", 10, \"Carnivore\", \"Mountains\", 1000, \"Brown\")\n",
    "    M1.printPopulation()\n",
    "    B1.printPopulation()"
   ]
  },
  {
   "cell_type": "code",
   "execution_count": 6,
   "metadata": {},
   "outputs": [
    {
     "name": "stdout",
     "output_type": "stream",
     "text": [
      "Salary of Akash Mehta: 56000\n",
      "Salary of Ravi: 50000\n"
     ]
    }
   ],
   "source": [
    "class Employee:\n",
    "    def __init__(self, name, age, position, department, salary):\n",
    "        self.name = name\n",
    "        self.age = age\n",
    "        self.position = position\n",
    "        self.department = department\n",
    "        self.salary = salary\n",
    "        \n",
    "    def printSalary(self):\n",
    "        print(f\"Salary of {self.name}: {self.salary}\")\n",
    "\n",
    "\n",
    "class SoftwareEngineer(Employee):\n",
    "    def __init__(self, name, age, position, department, salary, programmingLanguages):\n",
    "        super().__init__(name, age, position, department, salary)\n",
    "        self.programmingLanguages = programmingLanguages\n",
    "\n",
    "\n",
    "class MarketingSpecialist(Employee):\n",
    "    def __init__(self, name, age, position, department, salary, marketingTools):\n",
    "        super().__init__(name, age, position, department, salary)\n",
    "        self.marketingTools = marketingTools\n",
    "\n",
    "\n",
    "class Test:\n",
    "    S1 = SoftwareEngineer(\"Akash Mehta\", 34, \"Java Developer\", \"Developer\", 56000, \"Java,Python,MySQL\")\n",
    "    M1 = MarketingSpecialist(\"Ravi\", 30, \"Manager\", \"Export Marketing\", 50000, \"XYZ\")\n",
    "    S1.printSalary()\n",
    "    M1.printSalary()\n"
   ]
  }
 ],
 "metadata": {
  "kernelspec": {
   "display_name": "Python 3",
   "language": "python",
   "name": "python3"
  },
  "language_info": {
   "codemirror_mode": {
    "name": "ipython",
    "version": 3
   },
   "file_extension": ".py",
   "mimetype": "text/x-python",
   "name": "python",
   "nbconvert_exporter": "python",
   "pygments_lexer": "ipython3",
   "version": "3.12.2"
  }
 },
 "nbformat": 4,
 "nbformat_minor": 2
}
