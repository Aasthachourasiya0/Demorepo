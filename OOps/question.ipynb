{
 "cells": [
  {
   "cell_type": "code",
   "execution_count": 4,
   "metadata": {},
   "outputs": [
    {
     "name": "stdout",
     "output_type": "stream",
     "text": [
      "Hello, my name is Raj and I am 23 years old.\n"
     ]
    }
   ],
   "source": [
    "# question 1\n",
    "class Person:\n",
    "    \n",
    "    def __init__(self, name, age):\n",
    "        self.name = name\n",
    "        self.age = age\n",
    "        \n",
    "    def greet(self):\n",
    "     print(f\"Hello, my name is {self.name} and I am {self.age} years old.\")\n",
    "\n",
    "class P :\n",
    "\n",
    "    P = Person('Raj', 23)\n",
    "    P.greet()"
   ]
  },
  {
   "cell_type": "code",
   "execution_count": null,
   "metadata": {},
   "outputs": [],
   "source": [
    "# question 2\n",
    "class TempretureConverter:\n",
    "    \n",
    "    def celsius_to_fahrenheit(self,celsius):\n",
    "        return self,round[(celsius * 9/5+32, 2)]\n",
    "    \n",
    "    def fahrenheit_to_celsius(self,fahrenheit):\n",
    "        return self,round[(fahrenheit-32) * 5/9, 2]\n",
    "        \n",
    "class T :\n",
    "   converter = TempretureConverter()\n",
    "   celsius = (input(\"Enter temperature in Celsius: \"))\n",
    "   fahrenheit = converter.celsius_to_fahrenheit(celsius)\n",
    "   print(\"Temperature in Fahrenheit:\", fahrenheit)\n",
    "   \n",
    "   fahrenheit_input = float(input(\"Enter temperature in Fahrenheit: \"))\n",
    "   celsius = converter.fahrenheit_to_celsius(fahrenheit_input)\n",
    "   print(\"Temperature in Celsius:\", celsius)"
   ]
  },
  {
   "cell_type": "code",
   "execution_count": 5,
   "metadata": {},
   "outputs": [
    {
     "name": "stdout",
     "output_type": "stream",
     "text": [
      "The current sbi balance is 300.0\n",
      "The current pnb balance is 3950.0\n"
     ]
    }
   ],
   "source": [
    "# Question 3\n",
    "class BankAccount:\n",
    "    account_number = 0\n",
    "    balance = 0.0\n",
    "    \n",
    "    def deposit(self,amount):\n",
    "        self.balance+=amount\n",
    "\n",
    "    def withdraw(self,amount):\n",
    "        self.balance-=amount\n",
    "\n",
    "    def get_balance(self):\n",
    "        return self.balance\n",
    "\n",
    "\n",
    "class ATM :\n",
    "    sbi = BankAccount()\n",
    "    sbi.deposit(330)\n",
    "    sbi.withdraw(30)\n",
    "    print(\"The current sbi balance is\",sbi.get_balance())\n",
    "\n",
    "    pnb = BankAccount()\n",
    "    pnb.deposit(4450)\n",
    "    pnb.withdraw(500)\n",
    "    print(\"The current pnb balance is\",pnb.get_balance())"
   ]
  },
  {
   "cell_type": "code",
   "execution_count": 6,
   "metadata": {},
   "outputs": [
    {
     "name": "stdout",
     "output_type": "stream",
     "text": [
      "8\n",
      "12\n"
     ]
    }
   ],
   "source": [
    "# Question 4\n",
    "class Rectangle:\n",
    "    lenght = 2\n",
    "    width = 4\n",
    "\n",
    "    def area(self):\n",
    "        return self.lenght*self.width\n",
    "\n",
    "    def perimeter(self):\n",
    "        return 2*(self.lenght+self.width)\n",
    "    \n",
    "class Test:\n",
    "    rect1 = Rectangle()\n",
    "    area1 = rect1.area()\n",
    "    per1 = rect1.perimeter()\n",
    "\n",
    "    print(area1)\n",
    "    print(per1)"
   ]
  },
  {
   "cell_type": "code",
   "execution_count": 7,
   "metadata": {},
   "outputs": [
    {
     "name": "stdout",
     "output_type": "stream",
     "text": [
      "1 is odd.\n",
      "2 is even.\n",
      "3 is odd.\n",
      "4 is even.\n",
      "5 is odd.\n",
      "6 is even.\n",
      "7 is odd.\n",
      "8 is even.\n",
      "9 is odd.\n",
      "10 is even.\n"
     ]
    }
   ],
   "source": [
    "# question 5\n",
    "class NumberChecker:\n",
    "    def is_even(self, number):\n",
    "        return number % 2 == 0\n",
    "    \n",
    "    def check_number(self, list_of_number):\n",
    "        for num in list_of_number:\n",
    "            if self.is_even(num):\n",
    "                print(f\"{num} is even.\")\n",
    "            else:\n",
    "                print(f\"{num} is odd.\")\n",
    "class main():\n",
    "    if __name__ == \"__main__\":\n",
    "      num_checker = NumberChecker()\n",
    "      numbers = [1, 2, 3, 4, 5, 6, 7, 8, 9, 10]\n",
    "      num_checker.check_number(numbers)\n",
    "    "
   ]
  }
 ],
 "metadata": {
  "kernelspec": {
   "display_name": "Python 3",
   "language": "python",
   "name": "python3"
  },
  "language_info": {
   "codemirror_mode": {
    "name": "ipython",
    "version": 3
   },
   "file_extension": ".py",
   "mimetype": "text/x-python",
   "name": "python",
   "nbconvert_exporter": "python",
   "pygments_lexer": "ipython3",
   "version": "3.12.2"
  }
 },
 "nbformat": 4,
 "nbformat_minor": 2
}
