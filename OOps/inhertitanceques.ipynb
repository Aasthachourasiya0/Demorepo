{
 "cells": [
  {
   "cell_type": "code",
   "execution_count": 1,
   "metadata": {},
   "outputs": [
    {
     "name": "stdout",
     "output_type": "stream",
     "text": [
      "Area of the circle: 78.57\n"
     ]
    }
   ],
   "source": [
    "class shape:\n",
    "    def __init__(self):\n",
    "        return 0\n",
    "    \n",
    "class circle(shape):\n",
    "    def __init__(self, redius):\n",
    "        self.redius = redius\n",
    "    def area(self):\n",
    "        return 22/7*self.redius**2\n",
    "    \n",
    "class Test:\n",
    "    redius = 5\n",
    "    circle = circle(redius)\n",
    "    print(\"Area of the circle:\", round(circle.area(), 2))"
   ]
  },
  {
   "cell_type": "code",
   "execution_count": 2,
   "metadata": {},
   "outputs": [
    {
     "name": "stdout",
     "output_type": "stream",
     "text": [
      "Fuel efficiency of the car: 15.0\n"
     ]
    }
   ],
   "source": [
    "class vehical:\n",
    "    def __init__(self, F):\n",
    "        self.fuel_efficiency = F\n",
    "        return 0\n",
    "\n",
    "\n",
    "class Car(vehical):\n",
    "    def __init__(self, distance, fuel_consumed):\n",
    "        self.distance = distance\n",
    "        self.fuel_consumed = fuel_consumed\n",
    "\n",
    "    def fuel_efficiency(self):\n",
    "        return self.distance / self.fuel_consumed\n",
    "\n",
    "\n",
    "distance = 300\n",
    "fuel_consumed = 20\n",
    "car = Car(distance, fuel_consumed)\n",
    "\n",
    "\n",
    "print(\"Fuel efficiency of the car:\", car.fuel_efficiency())"
   ]
  },
  {
   "cell_type": "code",
   "execution_count": 3,
   "metadata": {},
   "outputs": [
    {
     "name": "stdout",
     "output_type": "stream",
     "text": [
      "Meow!\n",
      "Woof!\n"
     ]
    }
   ],
   "source": [
    "class Animal:\n",
    "    def __init__(self , Sound):\n",
    "        self.Sound = Sound\n",
    "    def sound(self):\n",
    "        return \"\"\n",
    "    \n",
    "class cat(Animal):\n",
    "    def __init__(self, Sound):\n",
    "        super().__init__(Sound)\n",
    "        self.Sound = \"Meow!\"\n",
    "    \n",
    "class dog(Animal):\n",
    "    def __init__(self, Sound):\n",
    "        super().__init__(Sound)\n",
    "        self.Sound = \"Woof!\"\n",
    "\n",
    "class Test:\n",
    "    Cat = cat(\"Meow!\")\n",
    "    Dog = dog(\"Woof!\")\n",
    "\n",
    "    print(Cat.Sound)\n",
    "    print(Dog.Sound)"
   ]
  },
  {
   "cell_type": "code",
   "execution_count": 4,
   "metadata": {},
   "outputs": [
    {
     "name": "stdout",
     "output_type": "stream",
     "text": [
      "Hi there\n"
     ]
    }
   ],
   "source": [
    "class Person:\n",
    "    def greet(self):\n",
    "        print (\"Hello!\")\n",
    "\n",
    "\n",
    "class student(Person):\n",
    "    def greet(self):\n",
    "        print(\"Hi there\")\n",
    "\n",
    "class Test:\n",
    "    p = student()\n",
    "    p.greet()\n",
    "\n",
    "\n"
   ]
  },
  {
   "cell_type": "code",
   "execution_count": 5,
   "metadata": {},
   "outputs": [
    {
     "name": "stdout",
     "output_type": "stream",
     "text": [
      "60000\n"
     ]
    }
   ],
   "source": [
    "class Employee:\n",
    "    def __init__(self, base_salary, bonus_value):\n",
    "        self.base_salary = base_salary\n",
    "        self.bonus_value = bonus_value\n",
    "    \n",
    "    def calculate_salary(self):\n",
    "        return self.base_salary + self.bonus_value\n",
    "       \n",
    "    \n",
    "class Manager(Employee):\n",
    "    def __init__(self, base_salary, bonus_value):\n",
    "        super().__init__(base_salary, bonus_value)\n",
    "    \n",
    "class Test:\n",
    "    Base_salary = 50000\n",
    "    Bonus_value = 10000\n",
    "    \n",
    "    manager = Manager(Base_salary, Bonus_value)\n",
    "    print(manager.calculate_salary())\n",
    "\n",
    "    "
   ]
  }
 ],
 "metadata": {
  "kernelspec": {
   "display_name": "Python 3",
   "language": "python",
   "name": "python3"
  },
  "language_info": {
   "codemirror_mode": {
    "name": "ipython",
    "version": 3
   },
   "file_extension": ".py",
   "mimetype": "text/x-python",
   "name": "python",
   "nbconvert_exporter": "python",
   "pygments_lexer": "ipython3",
   "version": "3.12.2"
  }
 },
 "nbformat": 4,
 "nbformat_minor": 2
}
