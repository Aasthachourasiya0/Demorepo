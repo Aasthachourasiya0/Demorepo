{
 "cells": [
  {
   "cell_type": "code",
   "execution_count": 13,
   "metadata": {},
   "outputs": [
    {
     "name": "stdout",
     "output_type": "stream",
     "text": [
      "['banana', 'apple', 'Blackberry', 'Blueberry', 'Mango', 'Kiwi']\n"
     ]
    }
   ],
   "source": [
    "# Create a list with the names of your favorite fruits. Print the list\n",
    "fruits = [\"banana\", \"apple\", \"Blackberry\", \"Blueberry\", \"Mango\", \"Kiwi\"]\n",
    "i = fruits\n",
    "print(i)"
   ]
  },
  {
   "cell_type": "code",
   "execution_count": 26,
   "metadata": {},
   "outputs": [
    {
     "name": "stdout",
     "output_type": "stream",
     "text": [
      "The original list is : [1, 2, 3, 4, 5, 6, 7, 8]\n",
      "Double List is : [2, 4, 6, 8, 10, 12, 14, 16]\n"
     ]
    }
   ],
   "source": [
    "# Given a list of numbers, double each element and print the modified list.\n",
    "num = [1,2,3,4,5,6,7,8]\n",
    "print(\"The original list is : \" + str(num))\n",
    "for i in range(len(num)):\n",
    "    num[i] = num[i]+num[i]\n",
    "\n",
    "print(\"Double List is : \" + str(num))\n",
    "\n"
   ]
  },
  {
   "cell_type": "code",
   "execution_count": 29,
   "metadata": {},
   "outputs": [
    {
     "name": "stdout",
     "output_type": "stream",
     "text": [
      "[1, 4, 9, 16, 25, 36, 49, 64, 81, 100]\n"
     ]
    }
   ],
   "source": [
    "# Generate a list of squares for numbers 1 to 10 using list comprehension. Print the resulting list.\n",
    "num = [1,2,3,4,5,6,7,8,9,10]\n",
    "# squares = [x**2 for x in range(1, 11)]\n",
    "# print(squares)\n",
    "\n",
    "# x = [i**2 for i in num] #list comprhension\n",
    "# print(x)\n",
    "\n",
    "n = []\n",
    "for number in num:\n",
    "    n.append(number**2)\n",
    "print(n)\n"
   ]
  },
  {
   "cell_type": "code",
   "execution_count": null,
   "metadata": {},
   "outputs": [],
   "source": [
    "# Take a list of words and sort them in alphabetical order. Print the sorted list.\n",
    "word = [\"Dog\" \"Quick\" \"brown\" \"fox\" \"jumPs\" \"lazY\" \"over\" \"the\" \"the\"]\n",
    "i = word.sorted()\n",
    "print(i)\n"
   ]
  },
  {
   "cell_type": "code",
   "execution_count": null,
   "metadata": {},
   "outputs": [],
   "source": [
    "# Given a list of ages, filter out the adults (age >= 18). Print the modified list.\n"
   ]
  },
  {
   "cell_type": "code",
   "execution_count": 4,
   "metadata": {},
   "outputs": [
    {
     "name": "stdout",
     "output_type": "stream",
     "text": [
      "['Red', 'Green', 'Yellow', 'Purple', 'Blue', 'Black', 'orange', 'peach']\n"
     ]
    }
   ],
   "source": [
    "# Create two lists of colors and concatenate them. Print the combined list.\n",
    "c1 = [\"Red\",\"Green\", \"Yellow\", \"Purple\"]\n",
    "c2 = [\"Blue\", \"Black\",\"orange\", \"peach\"]\n",
    "# c3 = c1+c2\n",
    "# print(c3)\n",
    "c3 = [i for j in [c1,c2]for i in j]\n",
    "print(c3)\n"
   ]
  },
  {
   "cell_type": "code",
   "execution_count": 5,
   "metadata": {},
   "outputs": [
    {
     "name": "stdout",
     "output_type": "stream",
     "text": [
      "The list of animals after removing the Lion:\n",
      "['Panda', 'Cow', 'Dog', 'Cat', 'Camal']\n"
     ]
    }
   ],
   "source": [
    "#  Given a list of animals, remove a specific animal from the list. Print the modified list.\n",
    "a = [\"Panda\", \"Lion\", \"Cow\", \"Dog\", \"Cat\",\"Camal\"]\n",
    "a.remove(\"Lion\")\n",
    "print(\"The list of animals after removing the Lion:\")\n",
    "print(a)"
   ]
  }
 ],
 "metadata": {
  "kernelspec": {
   "display_name": "Python 3",
   "language": "python",
   "name": "python3"
  },
  "language_info": {
   "codemirror_mode": {
    "name": "ipython",
    "version": 3
   },
   "file_extension": ".py",
   "mimetype": "text/x-python",
   "name": "python",
   "nbconvert_exporter": "python",
   "pygments_lexer": "ipython3",
   "version": "3.12.2"
  }
 },
 "nbformat": 4,
 "nbformat_minor": 2
}
