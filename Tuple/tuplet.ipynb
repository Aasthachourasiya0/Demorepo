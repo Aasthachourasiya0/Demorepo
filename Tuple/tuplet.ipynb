{
 "cells": [
  {
   "cell_type": "code",
   "execution_count": 2,
   "metadata": {},
   "outputs": [
    {
     "name": "stdout",
     "output_type": "stream",
     "text": [
      "['banana', 'papaya']\n"
     ]
    }
   ],
   "source": [
    "# Given a tuple of fruits, find the ones with more than 5 characters.\n",
    "f = ('apple', 'banana', 'mango', 'guava', 'papaya')\n",
    "fruit = [x for x in f if len(x)>5] #comprhension \n",
    "print(fruit)\n"
   ]
  },
  {
   "cell_type": "code",
   "execution_count": 4,
   "metadata": {},
   "outputs": [
    {
     "name": "stdout",
     "output_type": "stream",
     "text": [
      "The element 3 appears 1 times in the tuple1.\n"
     ]
    }
   ],
   "source": [
    "# Count the number of times a specific tuple element appears in another tuple.\n",
    "a = (1,2,3,4,5,6,7)\n",
    "b = (3,)\n",
    "c = a.count(b[0])\n",
    "print(f\"The element {b[0]} appears {c} times in the tuple1.\")"
   ]
  },
  {
   "cell_type": "code",
   "execution_count": null,
   "metadata": {},
   "outputs": [],
   "source": [
    "# Check if a given tuple is a prefix of another tuple.\n",
    "a = (1,2,3,4,5,6,7)\n",
    "b = (3,8,9,10,11,2)\n",
    "\n"
   ]
  },
  {
   "cell_type": "code",
   "execution_count": null,
   "metadata": {},
   "outputs": [],
   "source": [
    "# Check if a given tuple is a prefix of another tuple.\n"
   ]
  },
  {
   "cell_type": "code",
   "execution_count": 1,
   "metadata": {},
   "outputs": [
    {
     "name": "stdout",
     "output_type": "stream",
     "text": [
      "(3, 4, 5, 6, 7, 8)\n"
     ]
    }
   ],
   "source": [
    "# Extract a specified element from a tuple based on its position.\n",
    "a = (1,2,3,4,5,6,7,8,9,10)\n",
    "tup = a[2:8]\n",
    "print(tup)\n",
    "\n",
    "\n"
   ]
  },
  {
   "cell_type": "code",
   "execution_count": 9,
   "metadata": {},
   "outputs": [
    {
     "name": "stdout",
     "output_type": "stream",
     "text": [
      "(1, 2, 3, 4, 5, 6, 7, 3, 8, 9, 10, 11, 2)\n"
     ]
    }
   ],
   "source": [
    "# Concatenate two tuples and create a new tuple.\n",
    "a = (1,2,3,4,5,6,7)\n",
    "b = (3,8,9,10,11,2)\n",
    "print(tuple(a+b))\n",
    "\n"
   ]
  },
  {
   "cell_type": "code",
   "execution_count": 10,
   "metadata": {},
   "outputs": [
    {
     "name": "stdout",
     "output_type": "stream",
     "text": [
      "sorted i: ('Astha', 'Neha', 'Nihar', 'aastha', 'niki')\n",
      "<class 'tuple'>\n"
     ]
    }
   ],
   "source": [
    "# Sort a tuple based on a specific element in each tuple.\n",
    "name = ('Astha', 'aastha', 'Neha', 'niki', 'Nihar')\n",
    "i = tuple(sorted(name))\n",
    "print('sorted i:', i)\n",
    "print(type(i))"
   ]
  },
  {
   "cell_type": "code",
   "execution_count": 11,
   "metadata": {},
   "outputs": [
    {
     "name": "stdout",
     "output_type": "stream",
     "text": [
      "sorted i: (1, 3, 4, 8, 9, 10)\n"
     ]
    }
   ],
   "source": [
    "num = (1,3,4,8,9,10)\n",
    "i = tuple(sorted(num))\n",
    "print('sorted i:', i)"
   ]
  },
  {
   "cell_type": "code",
   "execution_count": 2,
   "metadata": {},
   "outputs": [
    {
     "name": "stdout",
     "output_type": "stream",
     "text": [
      "The original tuple : (1, 2, 3, 4, 5, 6, 11, 12)\n",
      "Do all elements have same type ? : True\n"
     ]
    }
   ],
   "source": [
    "# Check if all elements in a tuple are of the same data type.\n",
    "a = (1,2,3,4,5,6,11,12)\n",
    "# b = (1,2.2, A, 3.3, 5, 1,2)\n",
    "print(\"The original tuple : \" + str(a))\n",
    "res = True\n",
    "for i in a:\n",
    "    if not isinstance(i, type(a[0])):\n",
    "        res = False\n",
    "        break\n",
    "\n",
    "print(\"Do all elements have same type ? : \" + str(res))\n",
    "\n",
    "\n"
   ]
  },
  {
   "cell_type": "code",
   "execution_count": 16,
   "metadata": {},
   "outputs": [
    {
     "name": "stdout",
     "output_type": "stream",
     "text": [
      "Average of tuple element is: 5.142857142857143\n"
     ]
    }
   ],
   "source": [
    "# Find the average of all numerical elements in a tuple.\n",
    "a = (1,1, 2, 3, 4, 5, 6, 7, 3, 8, 9, 10, 11, 2)\n",
    "s = sum(a)\n",
    "d = len(a)\n",
    "print(\"Average of tuple element is:\", s / d)"
   ]
  },
  {
   "cell_type": "code",
   "execution_count": 20,
   "metadata": {},
   "outputs": [
    {
     "name": "stdout",
     "output_type": "stream",
     "text": [
      "<class 'tuple'>\n",
      "[1, 2, 3, 'Astha', 'ad']\n"
     ]
    }
   ],
   "source": [
    "# Convert a tuple into a list and vice versa.\n",
    "tup = (1,2,3, 'Astha','ad')\n",
    "print(type(tup))\n",
    "l = list(tup)\n",
    "print(l)"
   ]
  },
  {
   "cell_type": "code",
   "execution_count": 30,
   "metadata": {},
   "outputs": [
    {
     "name": "stdout",
     "output_type": "stream",
     "text": [
      "('apple', 'banana', 'cherry')\n"
     ]
    }
   ],
   "source": [
    "# Create a function that returns the first and last element of a tuple as a new tuple.\n",
    "t = (\"apple\", \"banana\", \"cherry\", 'mango')\n",
    "print(t[0:3])"
   ]
  }
 ],
 "metadata": {
  "kernelspec": {
   "display_name": "Python 3",
   "language": "python",
   "name": "python3"
  },
  "language_info": {
   "codemirror_mode": {
    "name": "ipython",
    "version": 3
   },
   "file_extension": ".py",
   "mimetype": "text/x-python",
   "name": "python",
   "nbconvert_exporter": "python",
   "pygments_lexer": "ipython3",
   "version": "3.12.2"
  }
 },
 "nbformat": 4,
 "nbformat_minor": 2
}
