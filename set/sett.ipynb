{
 "cells": [
  {
   "cell_type": "code",
   "execution_count": 4,
   "metadata": {},
   "outputs": [
    {
     "name": "stdout",
     "output_type": "stream",
     "text": [
      "{1, 2, 3, 4, 5.6, 5, 7, 8, 9, 10}\n",
      "{4}\n"
     ]
    }
   ],
   "source": [
    "# Find the union and intersection of two sets.\n",
    "s1 = {1,2,3,4,5.6,7}\n",
    "s2 = {8,9,10,5,4,}\n",
    "s3 = s1.union(s2)\n",
    "s4 = s1.intersection(s2)\n",
    "print(s3)\n"
   ]
  },
  {
   "cell_type": "code",
   "execution_count": 5,
   "metadata": {},
   "outputs": [
    {
     "name": "stdout",
     "output_type": "stream",
     "text": [
      "{8, 4, 5}\n",
      "{1, 2, 3, 6, 7}\n"
     ]
    }
   ],
   "source": [
    "# Remove all elements from a set that are present in another set.\n",
    "s1 = {1,2,3,4,5,6,7, 8}\n",
    "s2 = {8,9,10,5,4,10,11,12}\n",
    "s3 = s1.intersection(s2)\n",
    "print(s3)\n",
    "\n",
    "c = s1.intersection(s2)\n",
    "s1-=s3\n",
    "print(s1)\n",
    "\n"
   ]
  },
  {
   "cell_type": "code",
   "execution_count": 7,
   "metadata": {},
   "outputs": [
    {
     "name": "stdout",
     "output_type": "stream",
     "text": [
      "False\n",
      "Two sets items in Common\n",
      "{8, 4, 5}\n"
     ]
    }
   ],
   "source": [
    "# Check if two sets are disjoint (no elements in common).\n",
    "s1 = {1,2,3,4,5,6,7, 8}\n",
    "s2 = {8,9,10,5,4,10,11,12}\n",
    "s3 = s1.isdisjoint(s2)\n",
    "print(s3)\n",
    "\n",
    "if s1.isdisjoint(s2):\n",
    "  print(\"Two Sets No items in Common\")\n",
    "else:\n",
    "  print(\"Two sets items in Common\")\n",
    "  print(s1.intersection(s2))\n"
   ]
  },
  {
   "cell_type": "code",
   "execution_count": null,
   "metadata": {},
   "outputs": [],
   "source": [
    "# Generate a set of unique numbers from a list with duplicates.\n",
    "num = [\"1,2,3,4,5,6,8,2,1,6,8\"]\n",
    "n =list(set(num))\n"
   ]
  },
  {
   "cell_type": "code",
   "execution_count": 8,
   "metadata": {},
   "outputs": [
    {
     "name": "stdout",
     "output_type": "stream",
     "text": [
      "{1, 2, 3, 6, 7, 9, 10, 11, 12}\n"
     ]
    }
   ],
   "source": [
    "# Write a program to find the symmetric difference of two sets.\n",
    "s1 = {1,2,3,4,5,6,7, 8}\n",
    "s2 = {8,9,10,5,4,10,11,12}\n",
    "s = s1.symmetric_difference(s2)\n",
    "print(s)\n"
   ]
  },
  {
   "cell_type": "code",
   "execution_count": 1,
   "metadata": {},
   "outputs": [
    {
     "name": "stdout",
     "output_type": "stream",
     "text": [
      "9\n"
     ]
    }
   ],
   "source": [
    "# Count the number of elements in a set.\n",
    "s = {1, 2, 3, 6, 7, 9, 10, 11, 12}\n",
    "print(len(s))\n"
   ]
  },
  {
   "cell_type": "code",
   "execution_count": 11,
   "metadata": {},
   "outputs": [
    {
     "name": "stdout",
     "output_type": "stream",
     "text": [
      "3 is in set\n"
     ]
    }
   ],
   "source": [
    "# Check if a specific element is present in a set.\n",
    "s = {1, 2, 3, 6, 7, 9, 10, 11, 12}\n",
    "if 3 in s:\n",
    "    print(\"3 is in set\")\n",
    "else:\n",
    "    print(\"3 is not in set\")"
   ]
  },
  {
   "cell_type": "code",
   "execution_count": 22,
   "metadata": {},
   "outputs": [
    {
     "name": "stdout",
     "output_type": "stream",
     "text": [
      "{1, 2, 3, 10, 11, 12, 13, 14, 16}\n"
     ]
    }
   ],
   "source": [
    "# Remove all elements smaller than a given value from a set.\n",
    "s = {1, 2, 3, 16, 14, 13, 10, 11, 12}\n",
    "v = 11\n",
    "set = {x for x in s if x<=v}\n",
    "print(s)"
   ]
  },
  {
   "cell_type": "code",
   "execution_count": 27,
   "metadata": {},
   "outputs": [
    {
     "name": "stdout",
     "output_type": "stream",
     "text": [
      "s2 is a subset of s1? False\n",
      "True\n"
     ]
    }
   ],
   "source": [
    "# Find the subset of one set that is present in another set.\n",
    "s1 = {1, 2, 3}\n",
    "s2= {1, 2, 3, 4, 5}\n",
    "print(\"s2 is a subset of s1?\", s2.issubset(s1))\n",
    "print(s1.issubset(s2))"
   ]
  }
 ],
 "metadata": {
  "kernelspec": {
   "display_name": "Python 3",
   "language": "python",
   "name": "python3"
  },
  "language_info": {
   "codemirror_mode": {
    "name": "ipython",
    "version": 3
   },
   "file_extension": ".py",
   "mimetype": "text/x-python",
   "name": "python",
   "nbconvert_exporter": "python",
   "pygments_lexer": "ipython3",
   "version": "3.12.2"
  }
 },
 "nbformat": 4,
 "nbformat_minor": 2
}
